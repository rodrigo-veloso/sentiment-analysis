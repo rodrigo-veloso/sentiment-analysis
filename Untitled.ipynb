{
 "cells": [
  {
   "cell_type": "code",
   "execution_count": 63,
   "id": "hourly-threshold",
   "metadata": {},
   "outputs": [],
   "source": [
    "import tweepy as tw\n",
    "from leia import SentimentIntensityAnalyzer \n",
    "\n",
    "s = SentimentIntensityAnalyzer()"
   ]
  },
  {
   "cell_type": "code",
   "execution_count": 64,
   "id": "confirmed-circuit",
   "metadata": {},
   "outputs": [],
   "source": [
    "consumer_key = 'F5ucChFt93smoSFH8UGA9Qxph'\n",
    "consumer_secret = 'Skqf43paBcoQJIkcoamD8Q7t4pyQlLXib6RYkQLpC65Nl40ths'\n",
    "access_token = '1376534696021131268-iKSpA7AoTF263diuEFMdr1bK0KWE2q'\n",
    "access_token_secret = 'jbuJPeQkHyfPdm2D7mvIQChki0hKYsXClD2slPtFjmcDf'"
   ]
  },
  {
   "cell_type": "code",
   "execution_count": 65,
   "id": "capital-cisco",
   "metadata": {},
   "outputs": [],
   "source": [
    "auth = tw.OAuthHandler(consumer_key, consumer_secret)"
   ]
  },
  {
   "cell_type": "code",
   "execution_count": 66,
   "id": "activated-diameter",
   "metadata": {},
   "outputs": [],
   "source": [
    "auth.set_access_token(access_token, access_token_secret)"
   ]
  },
  {
   "cell_type": "code",
   "execution_count": 67,
   "id": "robust-property",
   "metadata": {},
   "outputs": [],
   "source": [
    "api = tw.API(auth,wait_on_rate_limit=True)"
   ]
  },
  {
   "cell_type": "code",
   "execution_count": 68,
   "id": "norwegian-protest",
   "metadata": {},
   "outputs": [],
   "source": [
    "public_tweets = api.home_timeline()"
   ]
  },
  {
   "cell_type": "code",
   "execution_count": 59,
   "id": "optional-aggregate",
   "metadata": {},
   "outputs": [
    {
     "data": {
      "text/plain": [
       "[]"
      ]
     },
     "execution_count": 59,
     "metadata": {},
     "output_type": "execute_result"
    }
   ],
   "source": [
    "public_tweets"
   ]
  },
  {
   "cell_type": "code",
   "execution_count": 71,
   "id": "removed-former",
   "metadata": {},
   "outputs": [],
   "source": [
    "tweets = tw.Cursor(api.search,q=\"sequoia\").items(1000)"
   ]
  },
  {
   "cell_type": "code",
   "execution_count": 70,
   "id": "vulnerable-diameter",
   "metadata": {},
   "outputs": [],
   "source": [
    "def get_sentiment(score):\n",
    "    if score['compound'] > 0.05:\n",
    "        score['sentiment'] = 'positive'\n",
    "    elif score['compound'] < -0.05:\n",
    "        score['sentiment'] = 'negative'\n",
    "    else:\n",
    "        score['sentiment'] = 'neutral'"
   ]
  },
  {
   "cell_type": "code",
   "execution_count": 82,
   "id": "fitting-entertainment",
   "metadata": {},
   "outputs": [],
   "source": [
    "def get_probabilities(scores):\n",
    "    pos_count = 0\n",
    "    neg_count = 0\n",
    "    neu_count = 0\n",
    "    total_score = 0\n",
    "    for score in scores:\n",
    "        total_score+=score['compound']\n",
    "        if score['sentiment'] == 'positive':\n",
    "            pos_count+=1\n",
    "        elif score['sentiment'] == 'negative':\n",
    "            neg_count+=1\n",
    "        else:\n",
    "            neu_count+=1\n",
    "    return pos_count/len(scores), neg_count/len(scores), neu_count/len(scores), total_score/len(scores)"
   ]
  },
  {
   "cell_type": "code",
   "execution_count": 72,
   "id": "compact-guidance",
   "metadata": {},
   "outputs": [],
   "source": [
    "scores = []\n",
    "for tweet in tweets:\n",
    "    if tweet.metadata['iso_language_code'] == 'pt':\n",
    "        #print(tweet.text)\n",
    "        scores.append(s.polarity_scores(tweet.text))"
   ]
  },
  {
   "cell_type": "code",
   "execution_count": 80,
   "id": "convertible-japan",
   "metadata": {},
   "outputs": [
    {
     "data": {
      "text/plain": [
       "[{'neg': 0.0, 'neu': 1.0, 'pos': 0.0, 'compound': 0.0, 'sentiment': 'neutral'},\n",
       " {'neg': 0.301,\n",
       "  'neu': 0.699,\n",
       "  'pos': 0.0,\n",
       "  'compound': -0.8481,\n",
       "  'sentiment': 'negative'},\n",
       " {'neg': 0.116,\n",
       "  'neu': 0.884,\n",
       "  'pos': 0.0,\n",
       "  'compound': -0.2732,\n",
       "  'sentiment': 'negative'},\n",
       " {'neg': 0.0, 'neu': 1.0, 'pos': 0.0, 'compound': 0.0, 'sentiment': 'neutral'},\n",
       " {'neg': 0.115,\n",
       "  'neu': 0.885,\n",
       "  'pos': 0.0,\n",
       "  'compound': -0.296,\n",
       "  'sentiment': 'negative'},\n",
       " {'neg': 0.0, 'neu': 1.0, 'pos': 0.0, 'compound': 0.0, 'sentiment': 'neutral'},\n",
       " {'neg': 0.171,\n",
       "  'neu': 0.829,\n",
       "  'pos': 0.0,\n",
       "  'compound': -0.2732,\n",
       "  'sentiment': 'negative'},\n",
       " {'neg': 0.0,\n",
       "  'neu': 0.465,\n",
       "  'pos': 0.535,\n",
       "  'compound': 0.3182,\n",
       "  'sentiment': 'positive'},\n",
       " {'neg': 0.186,\n",
       "  'neu': 0.814,\n",
       "  'pos': 0.0,\n",
       "  'compound': -0.1531,\n",
       "  'sentiment': 'negative'},\n",
       " {'neg': 0.225,\n",
       "  'neu': 0.662,\n",
       "  'pos': 0.113,\n",
       "  'compound': -0.4391,\n",
       "  'sentiment': 'negative'},\n",
       " {'neg': 0.0, 'neu': 1.0, 'pos': 0.0, 'compound': 0.0, 'sentiment': 'neutral'},\n",
       " {'neg': 0.256,\n",
       "  'neu': 0.744,\n",
       "  'pos': 0.0,\n",
       "  'compound': -0.6705,\n",
       "  'sentiment': 'negative'},\n",
       " {'neg': 0.259,\n",
       "  'neu': 0.741,\n",
       "  'pos': 0.0,\n",
       "  'compound': -0.4215,\n",
       "  'sentiment': 'negative'},\n",
       " {'neg': 0.244,\n",
       "  'neu': 0.756,\n",
       "  'pos': 0.0,\n",
       "  'compound': -0.6369,\n",
       "  'sentiment': 'negative'},\n",
       " {'neg': 0.0,\n",
       "  'neu': 0.38,\n",
       "  'pos': 0.62,\n",
       "  'compound': 0.5994,\n",
       "  'sentiment': 'positive'},\n",
       " {'neg': 0.167,\n",
       "  'neu': 0.833,\n",
       "  'pos': 0.0,\n",
       "  'compound': -0.5574,\n",
       "  'sentiment': 'negative'},\n",
       " {'neg': 0.0, 'neu': 1.0, 'pos': 0.0, 'compound': 0.0, 'sentiment': 'neutral'},\n",
       " {'neg': 0.296,\n",
       "  'neu': 0.704,\n",
       "  'pos': 0.0,\n",
       "  'compound': -0.7424,\n",
       "  'sentiment': 'negative'},\n",
       " {'neg': 0.422,\n",
       "  'neu': 0.578,\n",
       "  'pos': 0.0,\n",
       "  'compound': -0.8176,\n",
       "  'sentiment': 'negative'},\n",
       " {'neg': 0.309,\n",
       "  'neu': 0.691,\n",
       "  'pos': 0.0,\n",
       "  'compound': -0.6166,\n",
       "  'sentiment': 'negative'},\n",
       " {'neg': 0.177,\n",
       "  'neu': 0.718,\n",
       "  'pos': 0.105,\n",
       "  'compound': -0.3612,\n",
       "  'sentiment': 'negative'},\n",
       " {'neg': 0.0, 'neu': 1.0, 'pos': 0.0, 'compound': 0.0, 'sentiment': 'neutral'},\n",
       " {'neg': 0.263,\n",
       "  'neu': 0.584,\n",
       "  'pos': 0.153,\n",
       "  'compound': -0.3612,\n",
       "  'sentiment': 'negative'},\n",
       " {'neg': 0.283,\n",
       "  'neu': 0.717,\n",
       "  'pos': 0.0,\n",
       "  'compound': -0.743,\n",
       "  'sentiment': 'negative'},\n",
       " {'neg': 0.333,\n",
       "  'neu': 0.667,\n",
       "  'pos': 0.0,\n",
       "  'compound': -0.8395,\n",
       "  'sentiment': 'negative'},\n",
       " {'neg': 0.0, 'neu': 1.0, 'pos': 0.0, 'compound': 0.0, 'sentiment': 'neutral'},\n",
       " {'neg': 0.0, 'neu': 1.0, 'pos': 0.0, 'compound': 0.0, 'sentiment': 'neutral'},\n",
       " {'neg': 0.0,\n",
       "  'neu': 0.674,\n",
       "  'pos': 0.326,\n",
       "  'compound': 0.4404,\n",
       "  'sentiment': 'positive'},\n",
       " {'neg': 0.0, 'neu': 1.0, 'pos': 0.0, 'compound': 0.0, 'sentiment': 'neutral'},\n",
       " {'neg': 0.11,\n",
       "  'neu': 0.89,\n",
       "  'pos': 0.0,\n",
       "  'compound': -0.1531,\n",
       "  'sentiment': 'negative'},\n",
       " {'neg': 0.0,\n",
       "  'neu': 0.822,\n",
       "  'pos': 0.178,\n",
       "  'compound': 0.0772,\n",
       "  'sentiment': 'positive'},\n",
       " {'neg': 0.234,\n",
       "  'neu': 0.766,\n",
       "  'pos': 0.0,\n",
       "  'compound': -0.5994,\n",
       "  'sentiment': 'negative'},\n",
       " {'neg': 0.225,\n",
       "  'neu': 0.662,\n",
       "  'pos': 0.113,\n",
       "  'compound': -0.4391,\n",
       "  'sentiment': 'negative'},\n",
       " {'neg': 0.0, 'neu': 1.0, 'pos': 0.0, 'compound': 0.0, 'sentiment': 'neutral'},\n",
       " {'neg': 0.415,\n",
       "  'neu': 0.585,\n",
       "  'pos': 0.0,\n",
       "  'compound': -0.8591,\n",
       "  'sentiment': 'negative'},\n",
       " {'neg': 0.0, 'neu': 1.0, 'pos': 0.0, 'compound': 0.0, 'sentiment': 'neutral'},\n",
       " {'neg': 0.268,\n",
       "  'neu': 0.732,\n",
       "  'pos': 0.0,\n",
       "  'compound': -0.296,\n",
       "  'sentiment': 'negative'},\n",
       " {'neg': 0.0, 'neu': 1.0, 'pos': 0.0, 'compound': 0.0, 'sentiment': 'neutral'},\n",
       " {'neg': 0.0, 'neu': 1.0, 'pos': 0.0, 'compound': 0.0, 'sentiment': 'neutral'},\n",
       " {'neg': 0.0, 'neu': 1.0, 'pos': 0.0, 'compound': 0.0, 'sentiment': 'neutral'},\n",
       " {'neg': 0.0, 'neu': 1.0, 'pos': 0.0, 'compound': 0.0, 'sentiment': 'neutral'},\n",
       " {'neg': 0.134,\n",
       "  'neu': 0.866,\n",
       "  'pos': 0.0,\n",
       "  'compound': -0.4466,\n",
       "  'sentiment': 'negative'},\n",
       " {'neg': 0.616,\n",
       "  'neu': 0.384,\n",
       "  'pos': 0.0,\n",
       "  'compound': -0.7012,\n",
       "  'sentiment': 'negative'},\n",
       " {'neg': 0.516,\n",
       "  'neu': 0.484,\n",
       "  'pos': 0.0,\n",
       "  'compound': -0.4939,\n",
       "  'sentiment': 'negative'}]"
      ]
     },
     "execution_count": 80,
     "metadata": {},
     "output_type": "execute_result"
    }
   ],
   "source": [
    "for score in scores:\n",
    "    get_sentiment(score)\n",
    "scores"
   ]
  },
  {
   "cell_type": "code",
   "execution_count": 83,
   "id": "connected-encoding",
   "metadata": {},
   "outputs": [
    {
     "data": {
      "text/plain": [
       "(0.09090909090909091,\n",
       " 0.5681818181818182,\n",
       " 0.3409090909090909,\n",
       " -0.26372045454545456)"
      ]
     },
     "execution_count": 83,
     "metadata": {},
     "output_type": "execute_result"
    }
   ],
   "source": [
    "get_probabilities(scores)"
   ]
  },
  {
   "cell_type": "code",
   "execution_count": 85,
   "id": "future-specialist",
   "metadata": {},
   "outputs": [],
   "source": [
    "import pandas as pd\n",
    "\n",
    "data = pd.DataFrame(scores)"
   ]
  },
  {
   "cell_type": "code",
   "execution_count": 87,
   "id": "covered-racing",
   "metadata": {},
   "outputs": [],
   "source": [
    "data.to_csv('data.csv')"
   ]
  },
  {
   "cell_type": "code",
   "execution_count": 79,
   "id": "sorted-direction",
   "metadata": {},
   "outputs": [],
   "source": [
    "import requests\n",
    "from bs4 import BeautifulSoup"
   ]
  },
  {
   "cell_type": "code",
   "execution_count": 141,
   "id": "stable-compilation",
   "metadata": {},
   "outputs": [
    {
     "name": "stdout",
     "output_type": "stream",
     "text": [
      "b'<?xml version=\"1.0\" encoding=\"utf-8\"?>\\n<!DOCTYPE html PUBLIC \"-//WAPFORUM//DTD XHTML Mobile 1.0//EN\" \"http://www.wapforum.org/DTD/xhtml-mobile10.dtd\"><html lang=\"pt\" xmlns=\"http://www.w3.org/1999/xhtml\"><head><title>Conte\\xc3\\xbado n\\xc3\\xa3o encontrado</title><meta name=\"referrer\" content=\"default\" id=\"meta_referrer\" /><style type=\"text/css\" nonce=\"eDOYMKtP\">/*<![CDATA[*/.r{background-color:#fff;border-bottom:1px solid;border-color:#ebedf0;padding:5px 8px 23px 8px;text-align:center;}.s{padding:20px;}.t{text-align:center;}.v{appearance:none;background:none;display:inline-block;font-size:12px;height:28px;line-height:28px;margin:0;overflow:visible;padding:0 9px;text-align:center;vertical-align:top;white-space:nowrap;}.b .v{border-radius:2px;}.z,.bk,a.z,a.bk,html .b a.z,html .b a.bk{color:#fff;}.b .bk{background-color:#4080ff;border:1px solid #4476e8;}.b a.bk:hover,.b .bk:hover{background-color:#4580ef;}.b .z{background-color:#4267b2;border:1px solid #365899;}.b a.z:hover,.b .z:hover{background-color:#465e91;}.z[disabled]{color:#899bc1;}.bk[disabled]{color:#91b4fd;}.b .z[disabled]:hover{background-color:#4267b2;}.b .bk[disabled]:hover{background-color:#4080ff;}.v .bb{display:inline-block;}.b .v .bb{display:inline-block;margin-top:0;vertical-align:middle;}.b a.v::after{content:\"\";display:inline-block;height:100%;vertical-align:middle;}.v .bb{line-height:20px;margin-top:4px;}.b .v{padding:0 8px;}.b a.v{height:26px;line-height:26px;}.bb{pointer-events:none;}.b a,.b a:visited{color:#3b5998;text-decoration:none;}.b .inv,.b .inv:visited{color:#fff;}.b a:focus,.b a:hover{background-color:#3b5998;color:#fff;}.b .inv:focus,.b .inv:hover{background-color:#fff;color:#3b5998;}.ba{font-weight:normal;}.bd{height:20px;}.be{border-bottom:1px solid #ccd0d5;height:10px;text-align:center;width:100%;}.bf{color:#4b4f56;font-size:12px;line-height:20px;padding:0 10px;}.bg{background-color:#fff;}body{text-align:left;direction:ltr;}body,tr,input,textarea,button{font-family:sans-serif;}body,p,figure,h1,h2,h3,h4,h5,h6,ul,ol,li,dl,dd,dt{margin:0;padding:0;}h1,h2,h3,h4,h5,h6{font-size:1em;font-weight:bold;}ul,ol{list-style:none;}article,aside,figcaption,figure,footer,header,nav,section{display:block;}.d{background:#f5f6f7;}#page{position:relative;}.h{background-color:#3b5998;color:#fff;}.h ._4-i4{font-size:small;font-weight:normal;}.n{display:block;padding:5px;}._2xzg{background:#6d84b4;display:inline-block;font-size:14px;font-weight:normal;margin:4px 0;padding:2px 8px;}.b .i{border:0;border-collapse:collapse;margin:0;padding:0;width:100%;}.b .i tbody{vertical-align:top;}.b .j>tr>td,.b .j>tbody>tr>td,.b .i td.j{vertical-align:middle;}.b .i td{padding:0;}.b .q{width:100%;}.o,.o.p{display:block;}.l{display:block;}.m{height:20px;width:20px;}.p{border:0;display:inline-block;vertical-align:top;}i.p u{position:absolute;width:0;height:0;overflow:hidden;}body,tr,input,textarea,.e{font-size:medium;}/*]]>*/</style><meta property=\"og:title\" content=\"Entre ou cadastre-se para visualizar\" /><meta property=\"og:description\" content=\"Veja publica&#xe7;&#xf5;es, fotos e muito mais no Facebook.\" /><link rel=\"manifest\" href=\"/data/manifest/\" crossorigin=\"use-credentials\" /></head><body tabindex=\"0\" class=\"b c d\"><div class=\"e\"><div id=\"viewport\"><div class=\"f g\" id=\"MChromeHeader\"><div class=\"h\" id=\"header\"><table class=\"i j\"><tbody><tr><td class=\"k\"><a class=\"l m n\" href=\"/home.php?ref_component=mbasic_home_logo&amp;ref_page=XUFIReactionProfileBrowserController\"><img src=\"https://static.xx.fbcdn.net/rsrc.php/v3/ym/r/Gjhrhb7r0lb.png\" width=\"20\" height=\"20\" class=\"o p\" alt=\"Facebook logo\" /></a></td><td class=\"q\"><span>...<h1 class=\"_4-i4\"><a href=\"/home.php\" class=\"_2xzg inv\">Ir para a p\\xc3\\xa1gina inicial</a></h1></span></td></tr></tbody></table></div></div><div id=\"objects_container\"><div class=\"d\" id=\"root\"><div class=\"r\"><div class=\"s\">Cadastre-se no Facebook ou fa\\xc3\\xa7a login para continuar.</div><div class=\"t\"><a href=\"/r.php?next=https%3A%2F%2Fmbasic.facebook.com%2Fufi%2Freaction%2Fprofile%2Fbrowser%2F%3Fft_ent_identifier%3D4126144154147675%26refid%3D52%26_ft_%3Dmf_story_key.4126144154147675%253Atop_level_post_id.4126144154147675%253Atl_objid.4126144154147675%253Acontent_owner_id_new.120028891425908%253Athrowback_story_fbid.4126144154147675%253Apage_id.120028891425908%253Astory_location.4%253Astory_attachment_style.photo%253Atds_flgs.3%253Aott.AX9rpFMRwUwqZcjm%253Athid.120028891425908&amp;cid=104\" class=\"u v w x y z ba\"><span class=\"bb\">Participar</span></a><div class=\"bc\"><div class=\"bd\"><div class=\"be\"><span class=\"bf bg\">ou</span></div></div></div><a href=\"https://mbasic.facebook.com/login.php?next=https%3A%2F%2Fmbasic.facebook.com%2Fufi%2Freaction%2Fprofile%2Fbrowser%2F%3Fft_ent_identifier%3D4126144154147675%26refid%3D52%26_ft_%3Dmf_story_key.4126144154147675%253Atop_level_post_id.4126144154147675%253Atl_objid.4126144154147675%253Acontent_owner_id_new.120028891425908%253Athrowback_story_fbid.4126144154147675%253Apage_id.120028891425908%253Astory_location.4%253Astory_attachment_style.photo%253Atds_flgs.3%253Aott.AX9rpFMRwUwqZcjm%253Athid.120028891425908&amp;ref=104&amp;refsrc=https%3A%2F%2Fmbasic.facebook.com%2Fufi%2Freaction%2Fprofile%2Fbrowser%2F\" class=\"u v bh bi bj bk ba\"><span class=\"bb\">Entrar</span></a></div></div><div style=\"display:none\"></div><span><img src=\"https://facebook.com/security/hsts-pixel.gif?c=3.2\" width=\"0\" height=\"0\" style=\"display:none\" /></span></div></div></div></div></body></html>'\n"
     ]
    }
   ],
   "source": [
    "payload = {'email':'rodrigo1t@yahoo.com.br','pass':'RHQ6V3A2'}\n",
    "\n",
    "POST_LOGIN_URL = \"https://mbasic.facebook.com/login\"\n",
    "\n",
    "with requests.Session() as session:\n",
    "    post = session.post(POST_LOGIN_URL, data=payload)\n",
    "    page = requests.get('https://mbasic.facebook.com/ufi/reaction/profile/browser/?ft_ent_identifier=4126144154147675&refid=52&_ft_=mf_story_key.4126144154147675%3Atop_level_post_id.4126144154147675%3Atl_objid.4126144154147675%3Acontent_owner_id_new.120028891425908%3Athrowback_story_fbid.4126144154147675%3Apage_id.120028891425908%3Astory_location.4%3Astory_attachment_style.photo%3Atds_flgs.3%3Aott.AX9rpFMRwUwqZcjm%3Athid.120028891425908')\n",
    "    print(page.content)"
   ]
  },
  {
   "cell_type": "code",
   "execution_count": 121,
   "id": "impaired-organ",
   "metadata": {},
   "outputs": [],
   "source": [
    "soup = BeautifulSoup(page.content, \"html.parser\")"
   ]
  },
  {
   "cell_type": "code",
   "execution_count": 123,
   "id": "chicken-yemen",
   "metadata": {},
   "outputs": [
    {
     "data": {
      "text/plain": [
       "<?xml version=\"1.0\" encoding=\"utf-8\"?>\n",
       "<!DOCTYPE html PUBLIC \"-//WAPFORUM//DTD XHTML Mobile 1.0//EN\" \"http://www.wapforum.org/DTD/xhtml-mobile10.dtd\">\n",
       "<html lang=\"pt\" xmlns=\"http://www.w3.org/1999/xhtml\"><head><title>Conteúdo não encontrado</title><meta content=\"default\" id=\"meta_referrer\" name=\"referrer\"/><style nonce=\"7Pho4omr\" type=\"text/css\">/*<![CDATA[*/.r{background-color:#fff;border-bottom:1px solid;border-color:#ebedf0;padding:5px 8px 23px 8px;text-align:center;}.s{padding:20px;}.t{text-align:center;}.v{appearance:none;background:none;display:inline-block;font-size:12px;height:28px;line-height:28px;margin:0;overflow:visible;padding:0 9px;text-align:center;vertical-align:top;white-space:nowrap;}.b .v{border-radius:2px;}.z,.bk,a.z,a.bk,html .b a.z,html .b a.bk{color:#fff;}.b .bk{background-color:#4080ff;border:1px solid #4476e8;}.b a.bk:hover,.b .bk:hover{background-color:#4580ef;}.b .z{background-color:#4267b2;border:1px solid #365899;}.b a.z:hover,.b .z:hover{background-color:#465e91;}.z[disabled]{color:#899bc1;}.bk[disabled]{color:#91b4fd;}.b .z[disabled]:hover{background-color:#4267b2;}.b .bk[disabled]:hover{background-color:#4080ff;}.v .bb{display:inline-block;}.b .v .bb{display:inline-block;margin-top:0;vertical-align:middle;}.b a.v::after{content:\"\";display:inline-block;height:100%;vertical-align:middle;}.v .bb{line-height:20px;margin-top:4px;}.b .v{padding:0 8px;}.b a.v{height:26px;line-height:26px;}.bb{pointer-events:none;}.b a,.b a:visited{color:#3b5998;text-decoration:none;}.b .inv,.b .inv:visited{color:#fff;}.b a:focus,.b a:hover{background-color:#3b5998;color:#fff;}.b .inv:focus,.b .inv:hover{background-color:#fff;color:#3b5998;}.ba{font-weight:normal;}.bd{height:20px;}.be{border-bottom:1px solid #ccd0d5;height:10px;text-align:center;width:100%;}.bf{color:#4b4f56;font-size:12px;line-height:20px;padding:0 10px;}.bg{background-color:#fff;}body{text-align:left;direction:ltr;}body,tr,input,textarea,button{font-family:sans-serif;}body,p,figure,h1,h2,h3,h4,h5,h6,ul,ol,li,dl,dd,dt{margin:0;padding:0;}h1,h2,h3,h4,h5,h6{font-size:1em;font-weight:bold;}ul,ol{list-style:none;}article,aside,figcaption,figure,footer,header,nav,section{display:block;}.d{background:#f5f6f7;}#page{position:relative;}.h{background-color:#3b5998;color:#fff;}.h ._4-i4{font-size:small;font-weight:normal;}.n{display:block;padding:5px;}._2xzg{background:#6d84b4;display:inline-block;font-size:14px;font-weight:normal;margin:4px 0;padding:2px 8px;}.b .i{border:0;border-collapse:collapse;margin:0;padding:0;width:100%;}.b .i tbody{vertical-align:top;}.b .j>tr>td,.b .j>tbody>tr>td,.b .i td.j{vertical-align:middle;}.b .i td{padding:0;}.b .q{width:100%;}.o,.o.p{display:block;}.l{display:block;}.m{height:20px;width:20px;}.p{border:0;display:inline-block;vertical-align:top;}i.p u{position:absolute;width:0;height:0;overflow:hidden;}body,tr,input,textarea,.e{font-size:medium;}/*]]>*/</style><meta content=\"Entre ou cadastre-se para visualizar\" property=\"og:title\"/><meta content=\"Veja publicações, fotos e muito mais no Facebook.\" property=\"og:description\"/><link crossorigin=\"use-credentials\" href=\"/data/manifest/\" rel=\"manifest\"/></head><body class=\"b c d\" tabindex=\"0\"><div class=\"e\"><div id=\"viewport\"><div class=\"f g\" id=\"MChromeHeader\"><div class=\"h\" id=\"header\"><table class=\"i j\"><tbody><tr><td class=\"k\"><a class=\"l m n\" href=\"/home.php?ref_component=mbasic_home_logo&amp;ref_page=XUFIReactionProfileBrowserController\"><img alt=\"Facebook logo\" class=\"o p\" height=\"20\" src=\"https://static.xx.fbcdn.net/rsrc.php/v3/ym/r/Gjhrhb7r0lb.png\" width=\"20\"/></a></td><td class=\"q\"><span>...<h1 class=\"_4-i4\"><a class=\"_2xzg inv\" href=\"/home.php\">Ir para a página inicial</a></h1></span></td></tr></tbody></table></div></div><div id=\"objects_container\"><div class=\"d\" id=\"root\"><div class=\"r\"><div class=\"s\">Cadastre-se no Facebook ou faça login para continuar.</div><div class=\"t\"><a class=\"u v w x y z ba\" href=\"/r.php?next=https%3A%2F%2Fmbasic.facebook.com%2Fufi%2Freaction%2Fprofile%2Fbrowser%2F%3Fft_ent_identifier%3D4126144154147675%26refid%3D52%26_ft_%3Dmf_story_key.4126144154147675%253Atop_level_post_id.4126144154147675%253Atl_objid.4126144154147675%253Acontent_owner_id_new.120028891425908%253Athrowback_story_fbid.4126144154147675%253Apage_id.120028891425908%253Astory_location.4%253Astory_attachment_style.photo%253Atds_flgs.3%253Aott.AX9rpFMRwUwqZcjm%253Athid.120028891425908&amp;cid=104\"><span class=\"bb\">Participar</span></a><div class=\"bc\"><div class=\"bd\"><div class=\"be\"><span class=\"bf bg\">ou</span></div></div></div><a class=\"u v bh bi bj bk ba\" href=\"https://mbasic.facebook.com/login.php?next=https%3A%2F%2Fmbasic.facebook.com%2Fufi%2Freaction%2Fprofile%2Fbrowser%2F%3Fft_ent_identifier%3D4126144154147675%26refid%3D52%26_ft_%3Dmf_story_key.4126144154147675%253Atop_level_post_id.4126144154147675%253Atl_objid.4126144154147675%253Acontent_owner_id_new.120028891425908%253Athrowback_story_fbid.4126144154147675%253Apage_id.120028891425908%253Astory_location.4%253Astory_attachment_style.photo%253Atds_flgs.3%253Aott.AX9rpFMRwUwqZcjm%253Athid.120028891425908&amp;ref=104&amp;refsrc=https%3A%2F%2Fmbasic.facebook.com%2Fufi%2Freaction%2Fprofile%2Fbrowser%2F\"><span class=\"bb\">Entrar</span></a></div></div><div style=\"display:none\"></div><span><img height=\"0\" src=\"https://facebook.com/security/hsts-pixel.gif?c=3.2\" style=\"display:none\" width=\"0\"/></span></div></div></div></div></body></html>"
      ]
     },
     "execution_count": 123,
     "metadata": {},
     "output_type": "execute_result"
    }
   ],
   "source": [
    "soup"
   ]
  },
  {
   "cell_type": "code",
   "execution_count": 122,
   "id": "through-response",
   "metadata": {},
   "outputs": [
    {
     "data": {
      "text/plain": [
       "[]"
      ]
     },
     "execution_count": 122,
     "metadata": {},
     "output_type": "execute_result"
    }
   ],
   "source": [
    "soup.find_all('h3',class_=\"bj\")"
   ]
  },
  {
   "cell_type": "code",
   "execution_count": 89,
   "id": "steady-cassette",
   "metadata": {},
   "outputs": [
    {
     "ename": "TypeError",
     "evalue": "'int' object is not subscriptable",
     "output_type": "error",
     "traceback": [
      "\u001b[0;31m---------------------------------------------------------------------------\u001b[0m",
      "\u001b[0;31mTypeError\u001b[0m                                 Traceback (most recent call last)",
      "\u001b[0;32m<ipython-input-89-a3cd13229d23>\u001b[0m in \u001b[0;36m<module>\u001b[0;34m\u001b[0m\n\u001b[1;32m      2\u001b[0m \u001b[0;34m\u001b[0m\u001b[0m\n\u001b[1;32m      3\u001b[0m \u001b[0;32mfor\u001b[0m \u001b[0mpost\u001b[0m \u001b[0;32min\u001b[0m \u001b[0mget_posts\u001b[0m\u001b[0;34m(\u001b[0m\u001b[0;34m'patrustransportes'\u001b[0m\u001b[0;34m,\u001b[0m \u001b[0mpages\u001b[0m\u001b[0;34m=\u001b[0m\u001b[0;36m20\u001b[0m\u001b[0;34m)\u001b[0m\u001b[0;34m:\u001b[0m\u001b[0;34m\u001b[0m\u001b[0;34m\u001b[0m\u001b[0m\n\u001b[0;32m----> 4\u001b[0;31m     \u001b[0mprint\u001b[0m\u001b[0;34m(\u001b[0m\u001b[0mpost\u001b[0m\u001b[0;34m[\u001b[0m\u001b[0;34m'comments'\u001b[0m\u001b[0;34m]\u001b[0m\u001b[0;34m[\u001b[0m\u001b[0;34m:\u001b[0m\u001b[0;36m50\u001b[0m\u001b[0;34m]\u001b[0m\u001b[0;34m)\u001b[0m\u001b[0;34m\u001b[0m\u001b[0;34m\u001b[0m\u001b[0m\n\u001b[0m",
      "\u001b[0;31mTypeError\u001b[0m: 'int' object is not subscriptable"
     ]
    }
   ],
   "source": [
    "from facebook_scraper import get_posts\n",
    "\n",
    "for post in get_posts('patrustransportes', pages=20):\n",
    "    print(post['comments'][:50])"
   ]
  },
  {
   "cell_type": "code",
   "execution_count": 92,
   "id": "retained-discovery",
   "metadata": {},
   "outputs": [],
   "source": [
    "from pyfacebook import Api"
   ]
  },
  {
   "cell_type": "code",
   "execution_count": 106,
   "id": "civil-testing",
   "metadata": {},
   "outputs": [],
   "source": [
    "api = Api(app_id=\"284305436620359\", app_secret=\"b82ebeb0301ff2213671279dc68bced0\", long_term_token=\"long-term token\")"
   ]
  },
  {
   "cell_type": "code",
   "execution_count": 107,
   "id": "attached-interference",
   "metadata": {},
   "outputs": [
    {
     "data": {
      "text/plain": [
       "AccessToken(app_id=None, application=None, user_id=None)"
      ]
     },
     "execution_count": 107,
     "metadata": {},
     "output_type": "execute_result"
    }
   ],
   "source": [
    "api.get_token_info()"
   ]
  },
  {
   "cell_type": "code",
   "execution_count": 109,
   "id": "variable-earthquake",
   "metadata": {},
   "outputs": [],
   "source": [
    "import facebook"
   ]
  },
  {
   "cell_type": "code",
   "execution_count": 135,
   "id": "authorized-romance",
   "metadata": {},
   "outputs": [],
   "source": [
    "#imports here\n",
    "from selenium import webdriver\n",
    "from selenium.webdriver.common.keys import Keys\n",
    "from selenium.webdriver.support import expected_conditions as EC\n",
    "from selenium.webdriver.common.by import By\n",
    "from selenium.webdriver.support.wait import WebDriverWait\n",
    "import time"
   ]
  },
  {
   "cell_type": "code",
   "execution_count": 136,
   "id": "minus-stock",
   "metadata": {},
   "outputs": [],
   "source": [
    "\n",
    "#code by pythonjar, not me\n",
    "chrome_options = webdriver.ChromeOptions()\n",
    "prefs = {\"profile.default_content_setting_values.notifications\" : 2}\n",
    "chrome_options.add_experimental_option(\"prefs\",prefs)"
   ]
  },
  {
   "cell_type": "code",
   "execution_count": 138,
   "id": "adaptive-problem",
   "metadata": {},
   "outputs": [
    {
     "name": "stderr",
     "output_type": "stream",
     "text": [
      "<ipython-input-138-bafece4b5a1b>:2: DeprecationWarning: use options instead of chrome_options\n",
      "  driver = webdriver.Chrome('/home/rodrigo/Downloads/chromedriver_linux64', chrome_options=chrome_options)\n"
     ]
    },
    {
     "ename": "WebDriverException",
     "evalue": "Message: 'chromedriver_linux64' executable may have wrong permissions. Please see https://sites.google.com/a/chromium.org/chromedriver/home\n",
     "output_type": "error",
     "traceback": [
      "\u001b[0;31m---------------------------------------------------------------------------\u001b[0m",
      "\u001b[0;31mPermissionError\u001b[0m                           Traceback (most recent call last)",
      "\u001b[0;32m~/.local/lib/python3.8/site-packages/selenium/webdriver/common/service.py\u001b[0m in \u001b[0;36mstart\u001b[0;34m(self)\u001b[0m\n\u001b[1;32m     71\u001b[0m             \u001b[0mcmd\u001b[0m\u001b[0;34m.\u001b[0m\u001b[0mextend\u001b[0m\u001b[0;34m(\u001b[0m\u001b[0mself\u001b[0m\u001b[0;34m.\u001b[0m\u001b[0mcommand_line_args\u001b[0m\u001b[0;34m(\u001b[0m\u001b[0;34m)\u001b[0m\u001b[0;34m)\u001b[0m\u001b[0;34m\u001b[0m\u001b[0;34m\u001b[0m\u001b[0m\n\u001b[0;32m---> 72\u001b[0;31m             self.process = subprocess.Popen(cmd, env=self.env,\n\u001b[0m\u001b[1;32m     73\u001b[0m                                             \u001b[0mclose_fds\u001b[0m\u001b[0;34m=\u001b[0m\u001b[0mplatform\u001b[0m\u001b[0;34m.\u001b[0m\u001b[0msystem\u001b[0m\u001b[0;34m(\u001b[0m\u001b[0;34m)\u001b[0m \u001b[0;34m!=\u001b[0m \u001b[0;34m'Windows'\u001b[0m\u001b[0;34m,\u001b[0m\u001b[0;34m\u001b[0m\u001b[0;34m\u001b[0m\u001b[0m\n",
      "\u001b[0;32m/usr/lib/python3.8/subprocess.py\u001b[0m in \u001b[0;36m__init__\u001b[0;34m(self, args, bufsize, executable, stdin, stdout, stderr, preexec_fn, close_fds, shell, cwd, env, universal_newlines, startupinfo, creationflags, restore_signals, start_new_session, pass_fds, encoding, errors, text)\u001b[0m\n\u001b[1;32m    853\u001b[0m \u001b[0;34m\u001b[0m\u001b[0m\n\u001b[0;32m--> 854\u001b[0;31m             self._execute_child(args, executable, preexec_fn, close_fds,\n\u001b[0m\u001b[1;32m    855\u001b[0m                                 \u001b[0mpass_fds\u001b[0m\u001b[0;34m,\u001b[0m \u001b[0mcwd\u001b[0m\u001b[0;34m,\u001b[0m \u001b[0menv\u001b[0m\u001b[0;34m,\u001b[0m\u001b[0;34m\u001b[0m\u001b[0;34m\u001b[0m\u001b[0m\n",
      "\u001b[0;32m/usr/lib/python3.8/subprocess.py\u001b[0m in \u001b[0;36m_execute_child\u001b[0;34m(self, args, executable, preexec_fn, close_fds, pass_fds, cwd, env, startupinfo, creationflags, shell, p2cread, p2cwrite, c2pread, c2pwrite, errread, errwrite, restore_signals, start_new_session)\u001b[0m\n\u001b[1;32m   1701\u001b[0m                         \u001b[0merr_msg\u001b[0m \u001b[0;34m=\u001b[0m \u001b[0mos\u001b[0m\u001b[0;34m.\u001b[0m\u001b[0mstrerror\u001b[0m\u001b[0;34m(\u001b[0m\u001b[0merrno_num\u001b[0m\u001b[0;34m)\u001b[0m\u001b[0;34m\u001b[0m\u001b[0;34m\u001b[0m\u001b[0m\n\u001b[0;32m-> 1702\u001b[0;31m                     \u001b[0;32mraise\u001b[0m \u001b[0mchild_exception_type\u001b[0m\u001b[0;34m(\u001b[0m\u001b[0merrno_num\u001b[0m\u001b[0;34m,\u001b[0m \u001b[0merr_msg\u001b[0m\u001b[0;34m,\u001b[0m \u001b[0merr_filename\u001b[0m\u001b[0;34m)\u001b[0m\u001b[0;34m\u001b[0m\u001b[0;34m\u001b[0m\u001b[0m\n\u001b[0m\u001b[1;32m   1703\u001b[0m                 \u001b[0;32mraise\u001b[0m \u001b[0mchild_exception_type\u001b[0m\u001b[0;34m(\u001b[0m\u001b[0merr_msg\u001b[0m\u001b[0;34m)\u001b[0m\u001b[0;34m\u001b[0m\u001b[0;34m\u001b[0m\u001b[0m\n",
      "\u001b[0;31mPermissionError\u001b[0m: [Errno 13] Permission denied: '/home/rodrigo/Downloads/chromedriver_linux64'",
      "\nDuring handling of the above exception, another exception occurred:\n",
      "\u001b[0;31mWebDriverException\u001b[0m                        Traceback (most recent call last)",
      "\u001b[0;32m<ipython-input-138-bafece4b5a1b>\u001b[0m in \u001b[0;36m<module>\u001b[0;34m\u001b[0m\n\u001b[1;32m      1\u001b[0m \u001b[0;31m#specify the path to chromedriver.exe (download and save on your computer)\u001b[0m\u001b[0;34m\u001b[0m\u001b[0;34m\u001b[0m\u001b[0;34m\u001b[0m\u001b[0m\n\u001b[0;32m----> 2\u001b[0;31m \u001b[0mdriver\u001b[0m \u001b[0;34m=\u001b[0m \u001b[0mwebdriver\u001b[0m\u001b[0;34m.\u001b[0m\u001b[0mChrome\u001b[0m\u001b[0;34m(\u001b[0m\u001b[0;34m'/home/rodrigo/Downloads/chromedriver_linux64'\u001b[0m\u001b[0;34m,\u001b[0m \u001b[0mchrome_options\u001b[0m\u001b[0;34m=\u001b[0m\u001b[0mchrome_options\u001b[0m\u001b[0;34m)\u001b[0m\u001b[0;34m\u001b[0m\u001b[0;34m\u001b[0m\u001b[0m\n\u001b[0m\u001b[1;32m      3\u001b[0m \u001b[0;34m\u001b[0m\u001b[0m\n\u001b[1;32m      4\u001b[0m \u001b[0;31m#open the webpage\u001b[0m\u001b[0;34m\u001b[0m\u001b[0;34m\u001b[0m\u001b[0;34m\u001b[0m\u001b[0m\n\u001b[1;32m      5\u001b[0m \u001b[0mdriver\u001b[0m\u001b[0;34m.\u001b[0m\u001b[0mget\u001b[0m\u001b[0;34m(\u001b[0m\u001b[0;34m\"http://www.facebook.com\"\u001b[0m\u001b[0;34m)\u001b[0m\u001b[0;34m\u001b[0m\u001b[0;34m\u001b[0m\u001b[0m\n",
      "\u001b[0;32m~/.local/lib/python3.8/site-packages/selenium/webdriver/chrome/webdriver.py\u001b[0m in \u001b[0;36m__init__\u001b[0;34m(self, executable_path, port, options, service_args, desired_capabilities, service_log_path, chrome_options, keep_alive)\u001b[0m\n\u001b[1;32m     71\u001b[0m             \u001b[0mservice_args\u001b[0m\u001b[0;34m=\u001b[0m\u001b[0mservice_args\u001b[0m\u001b[0;34m,\u001b[0m\u001b[0;34m\u001b[0m\u001b[0;34m\u001b[0m\u001b[0m\n\u001b[1;32m     72\u001b[0m             log_path=service_log_path)\n\u001b[0;32m---> 73\u001b[0;31m         \u001b[0mself\u001b[0m\u001b[0;34m.\u001b[0m\u001b[0mservice\u001b[0m\u001b[0;34m.\u001b[0m\u001b[0mstart\u001b[0m\u001b[0;34m(\u001b[0m\u001b[0;34m)\u001b[0m\u001b[0;34m\u001b[0m\u001b[0;34m\u001b[0m\u001b[0m\n\u001b[0m\u001b[1;32m     74\u001b[0m \u001b[0;34m\u001b[0m\u001b[0m\n\u001b[1;32m     75\u001b[0m         \u001b[0;32mtry\u001b[0m\u001b[0;34m:\u001b[0m\u001b[0;34m\u001b[0m\u001b[0;34m\u001b[0m\u001b[0m\n",
      "\u001b[0;32m~/.local/lib/python3.8/site-packages/selenium/webdriver/common/service.py\u001b[0m in \u001b[0;36mstart\u001b[0;34m(self)\u001b[0m\n\u001b[1;32m     84\u001b[0m                 )\n\u001b[1;32m     85\u001b[0m             \u001b[0;32melif\u001b[0m \u001b[0merr\u001b[0m\u001b[0;34m.\u001b[0m\u001b[0merrno\u001b[0m \u001b[0;34m==\u001b[0m \u001b[0merrno\u001b[0m\u001b[0;34m.\u001b[0m\u001b[0mEACCES\u001b[0m\u001b[0;34m:\u001b[0m\u001b[0;34m\u001b[0m\u001b[0;34m\u001b[0m\u001b[0m\n\u001b[0;32m---> 86\u001b[0;31m                 raise WebDriverException(\n\u001b[0m\u001b[1;32m     87\u001b[0m                     \"'%s' executable may have wrong permissions. %s\" % (\n\u001b[1;32m     88\u001b[0m                         os.path.basename(self.path), self.start_error_message)\n",
      "\u001b[0;31mWebDriverException\u001b[0m: Message: 'chromedriver_linux64' executable may have wrong permissions. Please see https://sites.google.com/a/chromium.org/chromedriver/home\n"
     ]
    }
   ],
   "source": [
    "#specify the path to chromedriver.exe (download and save on your computer)\n",
    "driver = webdriver.Chrome('/home/rodrigo/Downloads/chromedriver_linux64', chrome_options=chrome_options)\n",
    "\n",
    "#open the webpage\n",
    "driver.get(\"http://www.facebook.com\")\n",
    "\n",
    "#target username\n",
    "username = WebDriverWait(driver, 10).until(EC.element_to_be_clickable((By.CSS_SELECTOR, \"input[name='email']\")))\n",
    "password = WebDriverWait(driver, 10).until(EC.element_to_be_clickable((By.CSS_SELECTOR, \"input[name='pass']\")))\n",
    "\n",
    "#enter username and password\n",
    "username.clear()\n",
    "username.send_keys(\"rodrigo1t@yahoo.com.br\")\n",
    "password.clear()\n",
    "password.send_keys(\"RHQ6V3A2\")\n",
    "\n",
    "#target the login button and click it\n",
    "button = WebDriverWait(driver, 2).until(EC.element_to_be_clickable((By.CSS_SELECTOR, \"button[type='submit']\"))).click()\n",
    "\n",
    "#We are logged in!"
   ]
  },
  {
   "cell_type": "code",
   "execution_count": 1,
   "id": "loose-bride",
   "metadata": {},
   "outputs": [],
   "source": [
    "from igramscraper.instagram import Instagram"
   ]
  },
  {
   "cell_type": "code",
   "execution_count": 2,
   "id": "pacific-dependence",
   "metadata": {},
   "outputs": [],
   "source": [
    "instagram = Instagram()"
   ]
  },
  {
   "cell_type": "code",
   "execution_count": 3,
   "id": "architectural-tomato",
   "metadata": {},
   "outputs": [
    {
     "ename": "KeyError",
     "evalue": "'ProfilePage'",
     "output_type": "error",
     "traceback": [
      "\u001b[0;31m---------------------------------------------------------------------------\u001b[0m",
      "\u001b[0;31mKeyError\u001b[0m                                  Traceback (most recent call last)",
      "\u001b[0;32m<ipython-input-3-f4580f46fcc5>\u001b[0m in \u001b[0;36m<module>\u001b[0;34m\u001b[0m\n\u001b[0;32m----> 1\u001b[0;31m \u001b[0minstagram\u001b[0m\u001b[0;34m.\u001b[0m\u001b[0mget_medias\u001b[0m\u001b[0;34m(\u001b[0m\u001b[0;34m\"the_rock\"\u001b[0m\u001b[0;34m,\u001b[0m \u001b[0;36m20\u001b[0m\u001b[0;34m)\u001b[0m\u001b[0;34m\u001b[0m\u001b[0;34m\u001b[0m\u001b[0m\n\u001b[0m",
      "\u001b[0;32m~/.local/lib/python3.8/site-packages/igramscraper/instagram.py\u001b[0m in \u001b[0;36mget_medias\u001b[0;34m(self, username, count, maxId)\u001b[0m\n\u001b[1;32m    286\u001b[0m         \u001b[0;34m:\u001b[0m\u001b[0;32mreturn\u001b[0m\u001b[0;34m:\u001b[0m \u001b[0mlist\u001b[0m \u001b[0mof\u001b[0m \u001b[0mMedia\u001b[0m\u001b[0;34m\u001b[0m\u001b[0;34m\u001b[0m\u001b[0m\n\u001b[1;32m    287\u001b[0m         \"\"\"\n\u001b[0;32m--> 288\u001b[0;31m         \u001b[0maccount\u001b[0m \u001b[0;34m=\u001b[0m \u001b[0mself\u001b[0m\u001b[0;34m.\u001b[0m\u001b[0mget_account\u001b[0m\u001b[0;34m(\u001b[0m\u001b[0musername\u001b[0m\u001b[0;34m)\u001b[0m\u001b[0;34m\u001b[0m\u001b[0;34m\u001b[0m\u001b[0m\n\u001b[0m\u001b[1;32m    289\u001b[0m         \u001b[0;32mreturn\u001b[0m \u001b[0mself\u001b[0m\u001b[0;34m.\u001b[0m\u001b[0mget_medias_by_user_id\u001b[0m\u001b[0;34m(\u001b[0m\u001b[0maccount\u001b[0m\u001b[0;34m.\u001b[0m\u001b[0midentifier\u001b[0m\u001b[0;34m,\u001b[0m \u001b[0mcount\u001b[0m\u001b[0;34m,\u001b[0m \u001b[0mmaxId\u001b[0m\u001b[0;34m)\u001b[0m\u001b[0;34m\u001b[0m\u001b[0;34m\u001b[0m\u001b[0m\n\u001b[1;32m    290\u001b[0m \u001b[0;34m\u001b[0m\u001b[0m\n",
      "\u001b[0;32m~/.local/lib/python3.8/site-packages/igramscraper/instagram.py\u001b[0m in \u001b[0;36mget_account\u001b[0;34m(self, username)\u001b[0m\n\u001b[1;32m   1125\u001b[0m         \u001b[0muser_array\u001b[0m \u001b[0;34m=\u001b[0m \u001b[0mInstagram\u001b[0m\u001b[0;34m.\u001b[0m\u001b[0mextract_shared_data_from_body\u001b[0m\u001b[0;34m(\u001b[0m\u001b[0mresponse\u001b[0m\u001b[0;34m.\u001b[0m\u001b[0mtext\u001b[0m\u001b[0;34m)\u001b[0m\u001b[0;34m\u001b[0m\u001b[0;34m\u001b[0m\u001b[0m\n\u001b[1;32m   1126\u001b[0m \u001b[0;34m\u001b[0m\u001b[0m\n\u001b[0;32m-> 1127\u001b[0;31m         \u001b[0;32mif\u001b[0m \u001b[0muser_array\u001b[0m\u001b[0;34m[\u001b[0m\u001b[0;34m'entry_data'\u001b[0m\u001b[0;34m]\u001b[0m\u001b[0;34m[\u001b[0m\u001b[0;34m'ProfilePage'\u001b[0m\u001b[0;34m]\u001b[0m\u001b[0;34m[\u001b[0m\u001b[0;36m0\u001b[0m\u001b[0;34m]\u001b[0m\u001b[0;34m[\u001b[0m\u001b[0;34m'graphql'\u001b[0m\u001b[0;34m]\u001b[0m\u001b[0;34m[\u001b[0m\u001b[0;34m'user'\u001b[0m\u001b[0;34m]\u001b[0m \u001b[0;32mis\u001b[0m \u001b[0;32mNone\u001b[0m\u001b[0;34m:\u001b[0m\u001b[0;34m\u001b[0m\u001b[0;34m\u001b[0m\u001b[0m\n\u001b[0m\u001b[1;32m   1128\u001b[0m             raise InstagramNotFoundException(\n\u001b[1;32m   1129\u001b[0m                 'Account with this username does not exist')\n",
      "\u001b[0;31mKeyError\u001b[0m: 'ProfilePage'"
     ]
    }
   ],
   "source": [
    "instagram.get_medias(\"the_rock\", 20)"
   ]
  },
  {
   "cell_type": "code",
   "execution_count": 93,
   "id": "polish-silence",
   "metadata": {},
   "outputs": [],
   "source": [
    "username = 'therock'\n",
    "id_ = '8477765677'"
   ]
  },
  {
   "cell_type": "code",
   "execution_count": 5,
   "id": "painted-accreditation",
   "metadata": {},
   "outputs": [],
   "source": [
    "medias = instagram.get_medias_by_user_id(id_, count=20)"
   ]
  },
  {
   "cell_type": "code",
   "execution_count": 4,
   "id": "entire-brisbane",
   "metadata": {},
   "outputs": [
    {
     "ename": "JSONDecodeError",
     "evalue": "Expecting value: line 1 column 1 (char 0)",
     "output_type": "error",
     "traceback": [
      "\u001b[0;31m---------------------------------------------------------------------------\u001b[0m",
      "\u001b[0;31mJSONDecodeError\u001b[0m                           Traceback (most recent call last)",
      "\u001b[0;32m<ipython-input-4-bc15465df8d6>\u001b[0m in \u001b[0;36m<module>\u001b[0;34m\u001b[0m\n\u001b[0;32m----> 1\u001b[0;31m \u001b[0mmedias\u001b[0m \u001b[0;34m=\u001b[0m \u001b[0minstagram\u001b[0m\u001b[0;34m.\u001b[0m\u001b[0mget_medias_from_feed\u001b[0m\u001b[0;34m(\u001b[0m\u001b[0;34m'patrustransportes'\u001b[0m\u001b[0;34m,\u001b[0m \u001b[0mcount\u001b[0m\u001b[0;34m=\u001b[0m\u001b[0;36m20\u001b[0m\u001b[0;34m)\u001b[0m\u001b[0;34m\u001b[0m\u001b[0;34m\u001b[0m\u001b[0m\n\u001b[0m",
      "\u001b[0;32m~/.local/lib/python3.8/site-packages/igramscraper/instagram.py\u001b[0m in \u001b[0;36mget_medias_from_feed\u001b[0;34m(self, username, count)\u001b[0m\n\u001b[1;32m    419\u001b[0m                                              response.status_code)\n\u001b[1;32m    420\u001b[0m \u001b[0;34m\u001b[0m\u001b[0m\n\u001b[0;32m--> 421\u001b[0;31m         \u001b[0muser_array\u001b[0m \u001b[0;34m=\u001b[0m \u001b[0mresponse\u001b[0m\u001b[0;34m.\u001b[0m\u001b[0mjson\u001b[0m\u001b[0;34m(\u001b[0m\u001b[0;34m)\u001b[0m\u001b[0;34m\u001b[0m\u001b[0;34m\u001b[0m\u001b[0m\n\u001b[0m\u001b[1;32m    422\u001b[0m \u001b[0;34m\u001b[0m\u001b[0m\n\u001b[1;32m    423\u001b[0m         \u001b[0;32mtry\u001b[0m\u001b[0;34m:\u001b[0m\u001b[0;34m\u001b[0m\u001b[0;34m\u001b[0m\u001b[0m\n",
      "\u001b[0;32m~/.local/lib/python3.8/site-packages/requests/models.py\u001b[0m in \u001b[0;36mjson\u001b[0;34m(self, **kwargs)\u001b[0m\n\u001b[1;32m    898\u001b[0m                     \u001b[0;31m# used.\u001b[0m\u001b[0;34m\u001b[0m\u001b[0;34m\u001b[0m\u001b[0;34m\u001b[0m\u001b[0m\n\u001b[1;32m    899\u001b[0m                     \u001b[0;32mpass\u001b[0m\u001b[0;34m\u001b[0m\u001b[0;34m\u001b[0m\u001b[0m\n\u001b[0;32m--> 900\u001b[0;31m         \u001b[0;32mreturn\u001b[0m \u001b[0mcomplexjson\u001b[0m\u001b[0;34m.\u001b[0m\u001b[0mloads\u001b[0m\u001b[0;34m(\u001b[0m\u001b[0mself\u001b[0m\u001b[0;34m.\u001b[0m\u001b[0mtext\u001b[0m\u001b[0;34m,\u001b[0m \u001b[0;34m**\u001b[0m\u001b[0mkwargs\u001b[0m\u001b[0;34m)\u001b[0m\u001b[0;34m\u001b[0m\u001b[0;34m\u001b[0m\u001b[0m\n\u001b[0m\u001b[1;32m    901\u001b[0m \u001b[0;34m\u001b[0m\u001b[0m\n\u001b[1;32m    902\u001b[0m     \u001b[0;34m@\u001b[0m\u001b[0mproperty\u001b[0m\u001b[0;34m\u001b[0m\u001b[0;34m\u001b[0m\u001b[0m\n",
      "\u001b[0;32m/usr/lib/python3/dist-packages/simplejson/__init__.py\u001b[0m in \u001b[0;36mloads\u001b[0;34m(s, encoding, cls, object_hook, parse_float, parse_int, parse_constant, object_pairs_hook, use_decimal, **kw)\u001b[0m\n\u001b[1;32m    516\u001b[0m             \u001b[0mparse_constant\u001b[0m \u001b[0;32mis\u001b[0m \u001b[0;32mNone\u001b[0m \u001b[0;32mand\u001b[0m \u001b[0mobject_pairs_hook\u001b[0m \u001b[0;32mis\u001b[0m \u001b[0;32mNone\u001b[0m\u001b[0;34m\u001b[0m\u001b[0;34m\u001b[0m\u001b[0m\n\u001b[1;32m    517\u001b[0m             and not use_decimal and not kw):\n\u001b[0;32m--> 518\u001b[0;31m         \u001b[0;32mreturn\u001b[0m \u001b[0m_default_decoder\u001b[0m\u001b[0;34m.\u001b[0m\u001b[0mdecode\u001b[0m\u001b[0;34m(\u001b[0m\u001b[0ms\u001b[0m\u001b[0;34m)\u001b[0m\u001b[0;34m\u001b[0m\u001b[0;34m\u001b[0m\u001b[0m\n\u001b[0m\u001b[1;32m    519\u001b[0m     \u001b[0;32mif\u001b[0m \u001b[0mcls\u001b[0m \u001b[0;32mis\u001b[0m \u001b[0;32mNone\u001b[0m\u001b[0;34m:\u001b[0m\u001b[0;34m\u001b[0m\u001b[0;34m\u001b[0m\u001b[0m\n\u001b[1;32m    520\u001b[0m         \u001b[0mcls\u001b[0m \u001b[0;34m=\u001b[0m \u001b[0mJSONDecoder\u001b[0m\u001b[0;34m\u001b[0m\u001b[0;34m\u001b[0m\u001b[0m\n",
      "\u001b[0;32m/usr/lib/python3/dist-packages/simplejson/decoder.py\u001b[0m in \u001b[0;36mdecode\u001b[0;34m(self, s, _w, _PY3)\u001b[0m\n\u001b[1;32m    368\u001b[0m         \u001b[0;32mif\u001b[0m \u001b[0m_PY3\u001b[0m \u001b[0;32mand\u001b[0m \u001b[0misinstance\u001b[0m\u001b[0;34m(\u001b[0m\u001b[0ms\u001b[0m\u001b[0;34m,\u001b[0m \u001b[0mbytes\u001b[0m\u001b[0;34m)\u001b[0m\u001b[0;34m:\u001b[0m\u001b[0;34m\u001b[0m\u001b[0;34m\u001b[0m\u001b[0m\n\u001b[1;32m    369\u001b[0m             \u001b[0ms\u001b[0m \u001b[0;34m=\u001b[0m \u001b[0mstr\u001b[0m\u001b[0;34m(\u001b[0m\u001b[0ms\u001b[0m\u001b[0;34m,\u001b[0m \u001b[0mself\u001b[0m\u001b[0;34m.\u001b[0m\u001b[0mencoding\u001b[0m\u001b[0;34m)\u001b[0m\u001b[0;34m\u001b[0m\u001b[0;34m\u001b[0m\u001b[0m\n\u001b[0;32m--> 370\u001b[0;31m         \u001b[0mobj\u001b[0m\u001b[0;34m,\u001b[0m \u001b[0mend\u001b[0m \u001b[0;34m=\u001b[0m \u001b[0mself\u001b[0m\u001b[0;34m.\u001b[0m\u001b[0mraw_decode\u001b[0m\u001b[0;34m(\u001b[0m\u001b[0ms\u001b[0m\u001b[0;34m)\u001b[0m\u001b[0;34m\u001b[0m\u001b[0;34m\u001b[0m\u001b[0m\n\u001b[0m\u001b[1;32m    371\u001b[0m         \u001b[0mend\u001b[0m \u001b[0;34m=\u001b[0m \u001b[0m_w\u001b[0m\u001b[0;34m(\u001b[0m\u001b[0ms\u001b[0m\u001b[0;34m,\u001b[0m \u001b[0mend\u001b[0m\u001b[0;34m)\u001b[0m\u001b[0;34m.\u001b[0m\u001b[0mend\u001b[0m\u001b[0;34m(\u001b[0m\u001b[0;34m)\u001b[0m\u001b[0;34m\u001b[0m\u001b[0;34m\u001b[0m\u001b[0m\n\u001b[1;32m    372\u001b[0m         \u001b[0;32mif\u001b[0m \u001b[0mend\u001b[0m \u001b[0;34m!=\u001b[0m \u001b[0mlen\u001b[0m\u001b[0;34m(\u001b[0m\u001b[0ms\u001b[0m\u001b[0;34m)\u001b[0m\u001b[0;34m:\u001b[0m\u001b[0;34m\u001b[0m\u001b[0;34m\u001b[0m\u001b[0m\n",
      "\u001b[0;32m/usr/lib/python3/dist-packages/simplejson/decoder.py\u001b[0m in \u001b[0;36mraw_decode\u001b[0;34m(self, s, idx, _w, _PY3)\u001b[0m\n\u001b[1;32m    398\u001b[0m             \u001b[0;32melif\u001b[0m \u001b[0mord0\u001b[0m \u001b[0;34m==\u001b[0m \u001b[0;36m0xef\u001b[0m \u001b[0;32mand\u001b[0m \u001b[0ms\u001b[0m\u001b[0;34m[\u001b[0m\u001b[0midx\u001b[0m\u001b[0;34m:\u001b[0m\u001b[0midx\u001b[0m \u001b[0;34m+\u001b[0m \u001b[0;36m3\u001b[0m\u001b[0;34m]\u001b[0m \u001b[0;34m==\u001b[0m \u001b[0;34m'\\xef\\xbb\\xbf'\u001b[0m\u001b[0;34m:\u001b[0m\u001b[0;34m\u001b[0m\u001b[0;34m\u001b[0m\u001b[0m\n\u001b[1;32m    399\u001b[0m                 \u001b[0midx\u001b[0m \u001b[0;34m+=\u001b[0m \u001b[0;36m3\u001b[0m\u001b[0;34m\u001b[0m\u001b[0;34m\u001b[0m\u001b[0m\n\u001b[0;32m--> 400\u001b[0;31m         \u001b[0;32mreturn\u001b[0m \u001b[0mself\u001b[0m\u001b[0;34m.\u001b[0m\u001b[0mscan_once\u001b[0m\u001b[0;34m(\u001b[0m\u001b[0ms\u001b[0m\u001b[0;34m,\u001b[0m \u001b[0midx\u001b[0m\u001b[0;34m=\u001b[0m\u001b[0m_w\u001b[0m\u001b[0;34m(\u001b[0m\u001b[0ms\u001b[0m\u001b[0;34m,\u001b[0m \u001b[0midx\u001b[0m\u001b[0;34m)\u001b[0m\u001b[0;34m.\u001b[0m\u001b[0mend\u001b[0m\u001b[0;34m(\u001b[0m\u001b[0;34m)\u001b[0m\u001b[0;34m)\u001b[0m\u001b[0;34m\u001b[0m\u001b[0;34m\u001b[0m\u001b[0m\n\u001b[0m",
      "\u001b[0;31mJSONDecodeError\u001b[0m: Expecting value: line 1 column 1 (char 0)"
     ]
    }
   ],
   "source": [
    "medias = instagram.get_medias_from_feed('patrustransportes', count=20)"
   ]
  },
  {
   "cell_type": "code",
   "execution_count": 6,
   "id": "biological-organization",
   "metadata": {},
   "outputs": [
    {
     "name": "stdout",
     "output_type": "stream",
     "text": [
      "400\n"
     ]
    }
   ],
   "source": [
    "print(medias[3].likes_count)"
   ]
  },
  {
   "cell_type": "code",
   "execution_count": 8,
   "id": "alert-benjamin",
   "metadata": {},
   "outputs": [
    {
     "name": "stdout",
     "output_type": "stream",
     "text": [
      "\n",
      "Account info:\n",
      "Id: 8477765677\n",
      "Username: None\n",
      "Full Name: None\n",
      "Bio: None\n",
      "Profile Pic Url: None\n",
      "External url: None\n",
      "Number of published posts: 0\n",
      "Number of followers: 0\n",
      "Number of follows: 0\n",
      "Is private: False\n",
      "Is verified: False\n",
      "\n"
     ]
    }
   ],
   "source": [
    "print(medias[3].owner)"
   ]
  },
  {
   "cell_type": "code",
   "execution_count": 6,
   "id": "piano-summer",
   "metadata": {},
   "outputs": [
    {
     "name": "stdout",
     "output_type": "stream",
     "text": [
      "2525034398389022266\n"
     ]
    }
   ],
   "source": [
    "print(medias[3].identifier)"
   ]
  },
  {
   "cell_type": "code",
   "execution_count": 7,
   "id": "moving-weapon",
   "metadata": {},
   "outputs": [
    {
     "ename": "JSONDecodeError",
     "evalue": "Expecting value: line 1 column 1 (char 0)",
     "output_type": "error",
     "traceback": [
      "\u001b[0;31m---------------------------------------------------------------------------\u001b[0m",
      "\u001b[0;31mJSONDecodeError\u001b[0m                           Traceback (most recent call last)",
      "\u001b[0;32m<ipython-input-7-e5a4d125e2eb>\u001b[0m in \u001b[0;36m<module>\u001b[0;34m\u001b[0m\n\u001b[0;32m----> 1\u001b[0;31m \u001b[0mcomments\u001b[0m \u001b[0;34m=\u001b[0m \u001b[0minstagram\u001b[0m\u001b[0;34m.\u001b[0m\u001b[0mget_media_comments_by_id\u001b[0m\u001b[0;34m(\u001b[0m\u001b[0mmedias\u001b[0m\u001b[0;34m[\u001b[0m\u001b[0;36m3\u001b[0m\u001b[0;34m]\u001b[0m\u001b[0;34m.\u001b[0m\u001b[0midentifier\u001b[0m\u001b[0;34m,\u001b[0m\u001b[0mcount\u001b[0m\u001b[0;34m=\u001b[0m\u001b[0;36m10\u001b[0m\u001b[0;34m,\u001b[0m\u001b[0mmax_id\u001b[0m\u001b[0;34m=\u001b[0m\u001b[0;36m2\u001b[0m\u001b[0;34m)\u001b[0m\u001b[0;34m\u001b[0m\u001b[0;34m\u001b[0m\u001b[0m\n\u001b[0m",
      "\u001b[0;32m~/.local/lib/python3.8/site-packages/igramscraper/instagram.py\u001b[0m in \u001b[0;36mget_media_comments_by_id\u001b[0;34m(self, media_id, count, max_id)\u001b[0m\n\u001b[1;32m   1011\u001b[0m         \"\"\"\n\u001b[1;32m   1012\u001b[0m         \u001b[0mcode\u001b[0m \u001b[0;34m=\u001b[0m \u001b[0mMedia\u001b[0m\u001b[0;34m.\u001b[0m\u001b[0mget_code_from_id\u001b[0m\u001b[0;34m(\u001b[0m\u001b[0mmedia_id\u001b[0m\u001b[0;34m)\u001b[0m\u001b[0;34m\u001b[0m\u001b[0;34m\u001b[0m\u001b[0m\n\u001b[0;32m-> 1013\u001b[0;31m         \u001b[0;32mreturn\u001b[0m \u001b[0mself\u001b[0m\u001b[0;34m.\u001b[0m\u001b[0mget_media_comments_by_code\u001b[0m\u001b[0;34m(\u001b[0m\u001b[0mcode\u001b[0m\u001b[0;34m,\u001b[0m \u001b[0mcount\u001b[0m\u001b[0;34m,\u001b[0m \u001b[0mmax_id\u001b[0m\u001b[0;34m)\u001b[0m\u001b[0;34m\u001b[0m\u001b[0;34m\u001b[0m\u001b[0m\n\u001b[0m\u001b[1;32m   1014\u001b[0m \u001b[0;34m\u001b[0m\u001b[0m\n\u001b[1;32m   1015\u001b[0m     \u001b[0;32mdef\u001b[0m \u001b[0mget_media_comments_by_code\u001b[0m\u001b[0;34m(\u001b[0m\u001b[0mself\u001b[0m\u001b[0;34m,\u001b[0m \u001b[0mcode\u001b[0m\u001b[0;34m,\u001b[0m \u001b[0mcount\u001b[0m\u001b[0;34m=\u001b[0m\u001b[0;36m10\u001b[0m\u001b[0;34m,\u001b[0m \u001b[0mmax_id\u001b[0m\u001b[0;34m=\u001b[0m\u001b[0;34m''\u001b[0m\u001b[0;34m)\u001b[0m\u001b[0;34m:\u001b[0m\u001b[0;34m\u001b[0m\u001b[0;34m\u001b[0m\u001b[0m\n",
      "\u001b[0;32m~/.local/lib/python3.8/site-packages/igramscraper/instagram.py\u001b[0m in \u001b[0;36mget_media_comments_by_code\u001b[0;34m(self, code, count, max_id)\u001b[0m\n\u001b[1;32m   1052\u001b[0m                                                  response.status_code)\n\u001b[1;32m   1053\u001b[0m \u001b[0;34m\u001b[0m\u001b[0m\n\u001b[0;32m-> 1054\u001b[0;31m             \u001b[0mjsonResponse\u001b[0m \u001b[0;34m=\u001b[0m \u001b[0mresponse\u001b[0m\u001b[0;34m.\u001b[0m\u001b[0mjson\u001b[0m\u001b[0;34m(\u001b[0m\u001b[0;34m)\u001b[0m\u001b[0;34m\u001b[0m\u001b[0;34m\u001b[0m\u001b[0m\n\u001b[0m\u001b[1;32m   1055\u001b[0m \u001b[0;34m\u001b[0m\u001b[0m\n\u001b[1;32m   1056\u001b[0m             \u001b[0mnodes\u001b[0m \u001b[0;34m=\u001b[0m \u001b[0mjsonResponse\u001b[0m\u001b[0;34m[\u001b[0m\u001b[0;34m'data'\u001b[0m\u001b[0;34m]\u001b[0m\u001b[0;34m[\u001b[0m\u001b[0;34m'shortcode_media'\u001b[0m\u001b[0;34m]\u001b[0m\u001b[0;34m[\u001b[0m\u001b[0;34m'edge_media_to_parent_comment'\u001b[0m\u001b[0;34m]\u001b[0m\u001b[0;34m[\u001b[0m\u001b[0;34m'edges'\u001b[0m\u001b[0;34m]\u001b[0m\u001b[0;34m\u001b[0m\u001b[0;34m\u001b[0m\u001b[0m\n",
      "\u001b[0;32m~/.local/lib/python3.8/site-packages/requests/models.py\u001b[0m in \u001b[0;36mjson\u001b[0;34m(self, **kwargs)\u001b[0m\n\u001b[1;32m    898\u001b[0m                     \u001b[0;31m# used.\u001b[0m\u001b[0;34m\u001b[0m\u001b[0;34m\u001b[0m\u001b[0;34m\u001b[0m\u001b[0m\n\u001b[1;32m    899\u001b[0m                     \u001b[0;32mpass\u001b[0m\u001b[0;34m\u001b[0m\u001b[0;34m\u001b[0m\u001b[0m\n\u001b[0;32m--> 900\u001b[0;31m         \u001b[0;32mreturn\u001b[0m \u001b[0mcomplexjson\u001b[0m\u001b[0;34m.\u001b[0m\u001b[0mloads\u001b[0m\u001b[0;34m(\u001b[0m\u001b[0mself\u001b[0m\u001b[0;34m.\u001b[0m\u001b[0mtext\u001b[0m\u001b[0;34m,\u001b[0m \u001b[0;34m**\u001b[0m\u001b[0mkwargs\u001b[0m\u001b[0;34m)\u001b[0m\u001b[0;34m\u001b[0m\u001b[0;34m\u001b[0m\u001b[0m\n\u001b[0m\u001b[1;32m    901\u001b[0m \u001b[0;34m\u001b[0m\u001b[0m\n\u001b[1;32m    902\u001b[0m     \u001b[0;34m@\u001b[0m\u001b[0mproperty\u001b[0m\u001b[0;34m\u001b[0m\u001b[0;34m\u001b[0m\u001b[0m\n",
      "\u001b[0;32m/usr/lib/python3/dist-packages/simplejson/__init__.py\u001b[0m in \u001b[0;36mloads\u001b[0;34m(s, encoding, cls, object_hook, parse_float, parse_int, parse_constant, object_pairs_hook, use_decimal, **kw)\u001b[0m\n\u001b[1;32m    516\u001b[0m             \u001b[0mparse_constant\u001b[0m \u001b[0;32mis\u001b[0m \u001b[0;32mNone\u001b[0m \u001b[0;32mand\u001b[0m \u001b[0mobject_pairs_hook\u001b[0m \u001b[0;32mis\u001b[0m \u001b[0;32mNone\u001b[0m\u001b[0;34m\u001b[0m\u001b[0;34m\u001b[0m\u001b[0m\n\u001b[1;32m    517\u001b[0m             and not use_decimal and not kw):\n\u001b[0;32m--> 518\u001b[0;31m         \u001b[0;32mreturn\u001b[0m \u001b[0m_default_decoder\u001b[0m\u001b[0;34m.\u001b[0m\u001b[0mdecode\u001b[0m\u001b[0;34m(\u001b[0m\u001b[0ms\u001b[0m\u001b[0;34m)\u001b[0m\u001b[0;34m\u001b[0m\u001b[0;34m\u001b[0m\u001b[0m\n\u001b[0m\u001b[1;32m    519\u001b[0m     \u001b[0;32mif\u001b[0m \u001b[0mcls\u001b[0m \u001b[0;32mis\u001b[0m \u001b[0;32mNone\u001b[0m\u001b[0;34m:\u001b[0m\u001b[0;34m\u001b[0m\u001b[0;34m\u001b[0m\u001b[0m\n\u001b[1;32m    520\u001b[0m         \u001b[0mcls\u001b[0m \u001b[0;34m=\u001b[0m \u001b[0mJSONDecoder\u001b[0m\u001b[0;34m\u001b[0m\u001b[0;34m\u001b[0m\u001b[0m\n",
      "\u001b[0;32m/usr/lib/python3/dist-packages/simplejson/decoder.py\u001b[0m in \u001b[0;36mdecode\u001b[0;34m(self, s, _w, _PY3)\u001b[0m\n\u001b[1;32m    368\u001b[0m         \u001b[0;32mif\u001b[0m \u001b[0m_PY3\u001b[0m \u001b[0;32mand\u001b[0m \u001b[0misinstance\u001b[0m\u001b[0;34m(\u001b[0m\u001b[0ms\u001b[0m\u001b[0;34m,\u001b[0m \u001b[0mbytes\u001b[0m\u001b[0;34m)\u001b[0m\u001b[0;34m:\u001b[0m\u001b[0;34m\u001b[0m\u001b[0;34m\u001b[0m\u001b[0m\n\u001b[1;32m    369\u001b[0m             \u001b[0ms\u001b[0m \u001b[0;34m=\u001b[0m \u001b[0mstr\u001b[0m\u001b[0;34m(\u001b[0m\u001b[0ms\u001b[0m\u001b[0;34m,\u001b[0m \u001b[0mself\u001b[0m\u001b[0;34m.\u001b[0m\u001b[0mencoding\u001b[0m\u001b[0;34m)\u001b[0m\u001b[0;34m\u001b[0m\u001b[0;34m\u001b[0m\u001b[0m\n\u001b[0;32m--> 370\u001b[0;31m         \u001b[0mobj\u001b[0m\u001b[0;34m,\u001b[0m \u001b[0mend\u001b[0m \u001b[0;34m=\u001b[0m \u001b[0mself\u001b[0m\u001b[0;34m.\u001b[0m\u001b[0mraw_decode\u001b[0m\u001b[0;34m(\u001b[0m\u001b[0ms\u001b[0m\u001b[0;34m)\u001b[0m\u001b[0;34m\u001b[0m\u001b[0;34m\u001b[0m\u001b[0m\n\u001b[0m\u001b[1;32m    371\u001b[0m         \u001b[0mend\u001b[0m \u001b[0;34m=\u001b[0m \u001b[0m_w\u001b[0m\u001b[0;34m(\u001b[0m\u001b[0ms\u001b[0m\u001b[0;34m,\u001b[0m \u001b[0mend\u001b[0m\u001b[0;34m)\u001b[0m\u001b[0;34m.\u001b[0m\u001b[0mend\u001b[0m\u001b[0;34m(\u001b[0m\u001b[0;34m)\u001b[0m\u001b[0;34m\u001b[0m\u001b[0;34m\u001b[0m\u001b[0m\n\u001b[1;32m    372\u001b[0m         \u001b[0;32mif\u001b[0m \u001b[0mend\u001b[0m \u001b[0;34m!=\u001b[0m \u001b[0mlen\u001b[0m\u001b[0;34m(\u001b[0m\u001b[0ms\u001b[0m\u001b[0;34m)\u001b[0m\u001b[0;34m:\u001b[0m\u001b[0;34m\u001b[0m\u001b[0;34m\u001b[0m\u001b[0m\n",
      "\u001b[0;32m/usr/lib/python3/dist-packages/simplejson/decoder.py\u001b[0m in \u001b[0;36mraw_decode\u001b[0;34m(self, s, idx, _w, _PY3)\u001b[0m\n\u001b[1;32m    398\u001b[0m             \u001b[0;32melif\u001b[0m \u001b[0mord0\u001b[0m \u001b[0;34m==\u001b[0m \u001b[0;36m0xef\u001b[0m \u001b[0;32mand\u001b[0m \u001b[0ms\u001b[0m\u001b[0;34m[\u001b[0m\u001b[0midx\u001b[0m\u001b[0;34m:\u001b[0m\u001b[0midx\u001b[0m \u001b[0;34m+\u001b[0m \u001b[0;36m3\u001b[0m\u001b[0;34m]\u001b[0m \u001b[0;34m==\u001b[0m \u001b[0;34m'\\xef\\xbb\\xbf'\u001b[0m\u001b[0;34m:\u001b[0m\u001b[0;34m\u001b[0m\u001b[0;34m\u001b[0m\u001b[0m\n\u001b[1;32m    399\u001b[0m                 \u001b[0midx\u001b[0m \u001b[0;34m+=\u001b[0m \u001b[0;36m3\u001b[0m\u001b[0;34m\u001b[0m\u001b[0;34m\u001b[0m\u001b[0m\n\u001b[0;32m--> 400\u001b[0;31m         \u001b[0;32mreturn\u001b[0m \u001b[0mself\u001b[0m\u001b[0;34m.\u001b[0m\u001b[0mscan_once\u001b[0m\u001b[0;34m(\u001b[0m\u001b[0ms\u001b[0m\u001b[0;34m,\u001b[0m \u001b[0midx\u001b[0m\u001b[0;34m=\u001b[0m\u001b[0m_w\u001b[0m\u001b[0;34m(\u001b[0m\u001b[0ms\u001b[0m\u001b[0;34m,\u001b[0m \u001b[0midx\u001b[0m\u001b[0;34m)\u001b[0m\u001b[0;34m.\u001b[0m\u001b[0mend\u001b[0m\u001b[0;34m(\u001b[0m\u001b[0;34m)\u001b[0m\u001b[0;34m)\u001b[0m\u001b[0;34m\u001b[0m\u001b[0;34m\u001b[0m\u001b[0m\n\u001b[0m",
      "\u001b[0;31mJSONDecodeError\u001b[0m: Expecting value: line 1 column 1 (char 0)"
     ]
    }
   ],
   "source": [
    "comments = instagram.get_media_comments_by_id(medias[3].identifier,count=10,max_id=2)"
   ]
  },
  {
   "cell_type": "code",
   "execution_count": null,
   "id": "accessory-generic",
   "metadata": {},
   "outputs": [],
   "source": []
  },
  {
   "cell_type": "code",
   "execution_count": 11,
   "id": "strange-battery",
   "metadata": {},
   "outputs": [
    {
     "ename": "KeyError",
     "evalue": "'ProfilePage'",
     "output_type": "error",
     "traceback": [
      "\u001b[0;31m---------------------------------------------------------------------------\u001b[0m",
      "\u001b[0;31mKeyError\u001b[0m                                  Traceback (most recent call last)",
      "\u001b[0;32m<ipython-input-11-a017dd74259d>\u001b[0m in \u001b[0;36m<module>\u001b[0;34m\u001b[0m\n\u001b[0;32m----> 1\u001b[0;31m \u001b[0minstagram\u001b[0m\u001b[0;34m.\u001b[0m\u001b[0mmedia\u001b[0m \u001b[0;34m=\u001b[0m \u001b[0minstagram\u001b[0m\u001b[0;34m.\u001b[0m\u001b[0mget_medias\u001b[0m\u001b[0;34m(\u001b[0m\u001b[0;34m\"cocacola\"\u001b[0m\u001b[0;34m,\u001b[0m \u001b[0;36m1500\u001b[0m\u001b[0;34m)\u001b[0m\u001b[0;34m\u001b[0m\u001b[0;34m\u001b[0m\u001b[0m\n\u001b[0m",
      "\u001b[0;32m~/.local/lib/python3.8/site-packages/igramscraper/instagram.py\u001b[0m in \u001b[0;36mget_medias\u001b[0;34m(self, username, count, maxId)\u001b[0m\n\u001b[1;32m    286\u001b[0m         \u001b[0;34m:\u001b[0m\u001b[0;32mreturn\u001b[0m\u001b[0;34m:\u001b[0m \u001b[0mlist\u001b[0m \u001b[0mof\u001b[0m \u001b[0mMedia\u001b[0m\u001b[0;34m\u001b[0m\u001b[0;34m\u001b[0m\u001b[0m\n\u001b[1;32m    287\u001b[0m         \"\"\"\n\u001b[0;32m--> 288\u001b[0;31m         \u001b[0maccount\u001b[0m \u001b[0;34m=\u001b[0m \u001b[0mself\u001b[0m\u001b[0;34m.\u001b[0m\u001b[0mget_account\u001b[0m\u001b[0;34m(\u001b[0m\u001b[0musername\u001b[0m\u001b[0;34m)\u001b[0m\u001b[0;34m\u001b[0m\u001b[0;34m\u001b[0m\u001b[0m\n\u001b[0m\u001b[1;32m    289\u001b[0m         \u001b[0;32mreturn\u001b[0m \u001b[0mself\u001b[0m\u001b[0;34m.\u001b[0m\u001b[0mget_medias_by_user_id\u001b[0m\u001b[0;34m(\u001b[0m\u001b[0maccount\u001b[0m\u001b[0;34m.\u001b[0m\u001b[0midentifier\u001b[0m\u001b[0;34m,\u001b[0m \u001b[0mcount\u001b[0m\u001b[0;34m,\u001b[0m \u001b[0mmaxId\u001b[0m\u001b[0;34m)\u001b[0m\u001b[0;34m\u001b[0m\u001b[0;34m\u001b[0m\u001b[0m\n\u001b[1;32m    290\u001b[0m \u001b[0;34m\u001b[0m\u001b[0m\n",
      "\u001b[0;32m~/.local/lib/python3.8/site-packages/igramscraper/instagram.py\u001b[0m in \u001b[0;36mget_account\u001b[0;34m(self, username)\u001b[0m\n\u001b[1;32m   1130\u001b[0m         \u001b[0muser_array\u001b[0m \u001b[0;34m=\u001b[0m \u001b[0mInstagram\u001b[0m\u001b[0;34m.\u001b[0m\u001b[0mextract_shared_data_from_body\u001b[0m\u001b[0;34m(\u001b[0m\u001b[0mresponse\u001b[0m\u001b[0;34m.\u001b[0m\u001b[0mtext\u001b[0m\u001b[0;34m)\u001b[0m\u001b[0;34m\u001b[0m\u001b[0;34m\u001b[0m\u001b[0m\n\u001b[1;32m   1131\u001b[0m \u001b[0;34m\u001b[0m\u001b[0m\n\u001b[0;32m-> 1132\u001b[0;31m         \u001b[0;32mif\u001b[0m \u001b[0muser_array\u001b[0m\u001b[0;34m[\u001b[0m\u001b[0;34m'entry_data'\u001b[0m\u001b[0;34m]\u001b[0m\u001b[0;34m[\u001b[0m\u001b[0;34m'ProfilePage'\u001b[0m\u001b[0;34m]\u001b[0m\u001b[0;34m[\u001b[0m\u001b[0;36m0\u001b[0m\u001b[0;34m]\u001b[0m\u001b[0;34m[\u001b[0m\u001b[0;34m'graphql'\u001b[0m\u001b[0;34m]\u001b[0m\u001b[0;34m[\u001b[0m\u001b[0;34m'user'\u001b[0m\u001b[0;34m]\u001b[0m \u001b[0;32mis\u001b[0m \u001b[0;32mNone\u001b[0m\u001b[0;34m:\u001b[0m\u001b[0;34m\u001b[0m\u001b[0;34m\u001b[0m\u001b[0m\n\u001b[0m\u001b[1;32m   1133\u001b[0m             raise InstagramNotFoundException(\n\u001b[1;32m   1134\u001b[0m                 'Account with this username does not exist')\n",
      "\u001b[0;31mKeyError\u001b[0m: 'ProfilePage'"
     ]
    }
   ],
   "source": [
    "instagram.media = instagram.get_medias(\"cocacola\", 1500)"
   ]
  },
  {
   "cell_type": "code",
   "execution_count": 17,
   "id": "proper-maple",
   "metadata": {},
   "outputs": [],
   "source": [
    "import nltk\n",
    "from nltk.tokenize import word_tokenize\n",
    "from nltk.tokenize import PunktSentenceTokenizer\n",
    "from nltk.corpus import floresta"
   ]
  },
  {
   "cell_type": "code",
   "execution_count": 20,
   "id": "contrary-reality",
   "metadata": {},
   "outputs": [
    {
     "name": "stderr",
     "output_type": "stream",
     "text": [
      "[nltk_data] Downloading package punkt to /home/rodrigo/nltk_data...\n",
      "[nltk_data]   Package punkt is already up-to-date!\n",
      "[nltk_data] Downloading package averaged_perceptron_tagger to\n",
      "[nltk_data]     /home/rodrigo/nltk_data...\n",
      "[nltk_data]   Package averaged_perceptron_tagger is already up-to-\n",
      "[nltk_data]       date!\n"
     ]
    },
    {
     "ename": "AttributeError",
     "evalue": "module 'nltk' has no attribute 'words'",
     "output_type": "error",
     "traceback": [
      "\u001b[0;31m---------------------------------------------------------------------------\u001b[0m",
      "\u001b[0;31mAttributeError\u001b[0m                            Traceback (most recent call last)",
      "\u001b[0;32m<ipython-input-20-8dbe69c0e22a>\u001b[0m in \u001b[0;36m<module>\u001b[0;34m\u001b[0m\n\u001b[1;32m      2\u001b[0m \u001b[0mnltk\u001b[0m\u001b[0;34m.\u001b[0m\u001b[0mdownload\u001b[0m\u001b[0;34m(\u001b[0m\u001b[0;34m'averaged_perceptron_tagger'\u001b[0m\u001b[0;34m)\u001b[0m\u001b[0;34m\u001b[0m\u001b[0;34m\u001b[0m\u001b[0m\n\u001b[1;32m      3\u001b[0m \u001b[0mfrase\u001b[0m \u001b[0;34m=\u001b[0m \u001b[0;34m'a pedra é grande'\u001b[0m\u001b[0;34m\u001b[0m\u001b[0;34m\u001b[0m\u001b[0m\n\u001b[0;32m----> 4\u001b[0;31m \u001b[0mnltk\u001b[0m\u001b[0;34m.\u001b[0m\u001b[0mwords\u001b[0m\u001b[0;34m(\u001b[0m\u001b[0;34m'portuguese'\u001b[0m\u001b[0;34m)\u001b[0m\u001b[0;34m\u001b[0m\u001b[0;34m\u001b[0m\u001b[0m\n\u001b[0m\u001b[1;32m      5\u001b[0m \u001b[0mnltk\u001b[0m\u001b[0;34m.\u001b[0m\u001b[0mpos_tag\u001b[0m\u001b[0;34m(\u001b[0m\u001b[0mword_tokenize\u001b[0m\u001b[0;34m(\u001b[0m\u001b[0mfrase\u001b[0m\u001b[0;34m)\u001b[0m\u001b[0;34m)\u001b[0m\u001b[0;34m\u001b[0m\u001b[0;34m\u001b[0m\u001b[0m\n",
      "\u001b[0;31mAttributeError\u001b[0m: module 'nltk' has no attribute 'words'"
     ]
    }
   ],
   "source": [
    "nltk.download('punkt')\n",
    "nltk.download('averaged_perceptron_tagger')\n",
    "frase = 'a pedra é grande'\n",
    "nltk.words('portuguese')\n",
    "nltk.pos_tag(word_tokenize(frase))"
   ]
  },
  {
   "cell_type": "code",
   "execution_count": 36,
   "id": "prostate-daniel",
   "metadata": {},
   "outputs": [
    {
     "data": {
      "text/plain": [
       "[('raivoso', 'ADJ')]"
      ]
     },
     "execution_count": 36,
     "metadata": {},
     "output_type": "execute_result"
    }
   ],
   "source": [
    "import joblib\n",
    "from nltk import word_tokenize\n",
    "\n",
    "folder = 'models/'\n",
    "teste_tagger = joblib.load(folder+'POS_tagger_brill.pkl')\n",
    "phrase = 'raivoso'\n",
    "teste_tagger.tag(word_tokenize(phrase))"
   ]
  },
  {
   "cell_type": "code",
   "execution_count": null,
   "id": "descending-thunder",
   "metadata": {},
   "outputs": [],
   "source": []
  }
 ],
 "metadata": {
  "kernelspec": {
   "display_name": "Python 3",
   "language": "python",
   "name": "python3"
  },
  "language_info": {
   "codemirror_mode": {
    "name": "ipython",
    "version": 3
   },
   "file_extension": ".py",
   "mimetype": "text/x-python",
   "name": "python",
   "nbconvert_exporter": "python",
   "pygments_lexer": "ipython3",
   "version": "3.8.5"
  }
 },
 "nbformat": 4,
 "nbformat_minor": 5
}
